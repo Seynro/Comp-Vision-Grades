{
 "cells": [
  {
   "cell_type": "code",
   "execution_count": 1,
   "metadata": {},
   "outputs": [],
   "source": [
    "import pickle\n",
    "dict_st = 'students'\n",
    "with open(dict_st, 'rb') as f:\n",
    "    students = pickle.load(f)"
   ]
  },
  {
   "cell_type": "code",
   "execution_count": 2,
   "metadata": {},
   "outputs": [
    {
     "name": "stdout",
     "output_type": "stream",
     "text": [
      "{17: 'James Martinez', 23: 'Sophia Jones', 26: 'David Unichko', 2: 'Anna Unichko', 9: 'David Rodriguez', 25: 'James Williams', 27: 'Alina Lee', 14: 'Lena Milka', 29: 'Anna Smith', 13: 'Anna Lee', 34: 'Mahmud Hernandez', 37: 'Lena Johnson', 28: 'Maria Smith', 20: 'Alex Smith', 10: 'Alina Jones', 24: 'Robert Rodriguez', 38: 'Robert Martinez', 21: 'Emma Davis', 0: 'David Johnson', 33: 'Robert Davis', 36: 'Robert Williams', 12: 'Lena Smith', 31: 'Anna Hernandez', 11: 'Eva Jones', 15: 'Anna Walker', 3: 'Daniel Williams', 5: 'Eva Johnson', 30: 'John Brown', 7: 'Anna Rodriguez', 16: 'Emma Jones', 35: 'Lena Davis', 6: 'Maria Martinez', 32: 'Michael Garcia', 40: 'David Abdulaev', 18: 'Anna Davis', 19: 'John Williams', 1: 'Alex Walker', 39: 'Emma Smith', 22: 'Eva Hernandez', 8: 'Alex Lee', 4: 'Maria Johnson'}\n"
     ]
    }
   ],
   "source": [
    "print(students\n",
    "      )"
   ]
  }
 ],
 "metadata": {
  "kernelspec": {
   "display_name": "Python 3",
   "language": "python",
   "name": "python3"
  },
  "language_info": {
   "codemirror_mode": {
    "name": "ipython",
    "version": 3
   },
   "file_extension": ".py",
   "mimetype": "text/x-python",
   "name": "python",
   "nbconvert_exporter": "python",
   "pygments_lexer": "ipython3",
   "version": "3.10.0"
  }
 },
 "nbformat": 4,
 "nbformat_minor": 2
}
